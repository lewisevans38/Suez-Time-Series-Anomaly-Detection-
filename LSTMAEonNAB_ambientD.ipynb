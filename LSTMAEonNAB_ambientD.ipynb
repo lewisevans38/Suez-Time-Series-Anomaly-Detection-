{
  "nbformat": 4,
  "nbformat_minor": 0,
  "metadata": {
    "colab": {
      "provenance": [],
      "machine_shape": "hm",
      "gpuType": "A100",
      "authorship_tag": "ABX9TyNC8AyIz0TyceMBmtyMQxA3",
      "include_colab_link": true
    },
    "kernelspec": {
      "name": "python3",
      "display_name": "Python 3"
    },
    "language_info": {
      "name": "python"
    },
    "accelerator": "GPU"
  },
  "cells": [
    {
      "cell_type": "markdown",
      "metadata": {
        "id": "view-in-github",
        "colab_type": "text"
      },
      "source": [
        "<a href=\"https://colab.research.google.com/github/lewisevans38/Suez-Time-Series-Anomaly-Detection-/blob/main/LSTMAEonNAB_ambientD.ipynb\" target=\"_parent\"><img src=\"https://colab.research.google.com/assets/colab-badge.svg\" alt=\"Open In Colab\"/></a>"
      ]
    },
    {
      "cell_type": "markdown",
      "source": [
        "Base code taken from\n",
        " https://curiousily.com/posts/time-series-anomaly-detection-using-lstm-autoencoder-with-pytorch-in-python/\n",
        "\n",
        " Modified where appropriate so that the code works for the NAB dataset and shows fit/ reconstruction error and detects anomalies."
      ],
      "metadata": {
        "id": "__rp1YF4M9pE"
      }
    },
    {
      "cell_type": "code",
      "execution_count": null,
      "metadata": {
        "id": "IINlMgtTIUs-"
      },
      "outputs": [],
      "source": [
        "import numpy as np\n",
        "import pandas as pd\n",
        "import torch\n",
        "from torch import nn\n",
        "from matplotlib import pyplot as plt\n",
        "import math\n",
        "from copy import deepcopy\n",
        "from sklearn.model_selection import train_test_split\n"
      ]
    },
    {
      "cell_type": "code",
      "execution_count": null,
      "metadata": {
        "id": "Vbd4NvUH1Q9e"
      },
      "outputs": [],
      "source": [
        "#Non anomalous\n",
        "URL1 = \"https://raw.githubusercontent.com/numenta/NAB/master/data/realKnownCause/ambient_temperature_system_failure.csv\"\n",
        "DATA1 = pd.read_csv(URL1).set_index('timestamp')\n",
        "device = torch.device('cuda' if torch.cuda.is_available() else 'cpu')"
      ]
    },
    {
      "cell_type": "code",
      "execution_count": null,
      "metadata": {
        "colab": {
          "base_uri": "https://localhost:8080/"
        },
        "id": "OViPXdBC1Ufe",
        "outputId": "042f3d3a-5ad8-4aef-88ee-947dbd5fd681"
      },
      "outputs": [
        {
          "output_type": "stream",
          "name": "stdout",
          "text": [
            "(5813, 1) (1454, 1)\n"
          ]
        },
        {
          "output_type": "stream",
          "name": "stderr",
          "text": [
            "<ipython-input-14-0d285568ce3f>:10: SettingWithCopyWarning: \n",
            "A value is trying to be set on a copy of a slice from a DataFrame.\n",
            "Try using .loc[row_indexer,col_indexer] = value instead\n",
            "\n",
            "See the caveats in the documentation: https://pandas.pydata.org/pandas-docs/stable/user_guide/indexing.html#returning-a-view-versus-a-copy\n",
            "  train['value'] = scaler.transform(train[['value']])\n",
            "<ipython-input-14-0d285568ce3f>:11: SettingWithCopyWarning: \n",
            "A value is trying to be set on a copy of a slice from a DataFrame.\n",
            "Try using .loc[row_indexer,col_indexer] = value instead\n",
            "\n",
            "See the caveats in the documentation: https://pandas.pydata.org/pandas-docs/stable/user_guide/indexing.html#returning-a-view-versus-a-copy\n",
            "  test['value'] = scaler.transform(test[['value']])\n"
          ]
        }
      ],
      "source": [
        "df = DATA1\n",
        "train_size = int(len(df) * 0.80)\n",
        "test_size = len(df) - train_size\n",
        "train, test = df.iloc[0:train_size], df.iloc[train_size:len(df)]\n",
        "print(train.shape, test.shape)\n",
        "\n",
        "from sklearn.preprocessing import MinMaxScaler\n",
        "scaler = MinMaxScaler(feature_range =(-1,1))\n",
        "scaler = scaler.fit(train[['value']])\n",
        "train['value'] = scaler.transform(train[['value']])\n",
        "test['value'] = scaler.transform(test[['value']])\n",
        "df['value'] = scaler.transform(df[['value']])\n",
        "\n"
      ]
    },
    {
      "cell_type": "code",
      "execution_count": null,
      "metadata": {
        "id": "zpLeEyzg25RP"
      },
      "outputs": [],
      "source": [
        "def create_dataset(X, y, time_steps):\n",
        "    Xs, ys = [], []\n",
        "    for i in range(len(X) - time_steps):\n",
        "        v = X.iloc[i:(i + time_steps)].values\n",
        "        Xs.append(v)\n",
        "        ys.append(y.iloc[i + time_steps])\n",
        "    return np.array(Xs), np.array(ys)"
      ]
    },
    {
      "cell_type": "code",
      "execution_count": null,
      "metadata": {
        "colab": {
          "base_uri": "https://localhost:8080/"
        },
        "id": "PN6wuVkk2uWd",
        "outputId": "f3be957c-169a-45bd-b8d0-b64cf9f3a176"
      },
      "outputs": [
        {
          "output_type": "stream",
          "name": "stdout",
          "text": [
            "(5808, 5, 1)\n",
            "torch.Size([5808, 5, 1])\n"
          ]
        }
      ],
      "source": [
        "TIME_STEPS = 6\n",
        "# reshape to [samples, time_steps, n_features]\n",
        "X_train, y_train = create_dataset(\n",
        "  train[['value']],\n",
        "  train.value,\n",
        "  TIME_STEPS\n",
        ")\n",
        "X_test, y_test = create_dataset(\n",
        "  test[['value']],\n",
        "  test.value,\n",
        "  TIME_STEPS\n",
        ")\n",
        "print(X_train.shape)\n",
        "\n",
        "##Turn into pytorch tensors\n",
        "X_train = torch.tensor(X_train).float()\n",
        "y_train = torch.tensor(y_train).float()\n",
        "X_test = torch.tensor(X_test).float()\n",
        "y_test = torch.tensor(y_test).float()\n",
        "\n",
        "print(X_train.shape)"
      ]
    },
    {
      "cell_type": "code",
      "execution_count": null,
      "metadata": {
        "id": "C6XnPjuv424F"
      },
      "outputs": [],
      "source": [
        "class Encoder(nn.Module):\n",
        "\n",
        "  def __init__(self, seq_len, n_features, embedding_dim=64):\n",
        "    super(Encoder, self).__init__()\n",
        "\n",
        "    self.seq_len, self.n_features = seq_len, n_features\n",
        "    self.embedding_dim, self.hidden_dim = embedding_dim, 2 * embedding_dim\n",
        "\n",
        "    self.rnn1 = nn.LSTM(\n",
        "      input_size=n_features,\n",
        "      hidden_size=self.hidden_dim,\n",
        "      num_layers=1,\n",
        "      batch_first=True\n",
        "    )\n",
        "\n",
        "    self.rnn2 = nn.LSTM(\n",
        "      input_size=self.hidden_dim,\n",
        "      hidden_size=embedding_dim,\n",
        "      num_layers=1,\n",
        "      batch_first=True\n",
        "    )\n",
        "\n",
        "  def forward(self, x):\n",
        "    x = x.reshape((1, self.seq_len, self.n_features))\n",
        "\n",
        "    x, (_, _) = self.rnn1(x)\n",
        "    x, (hidden_n, _) = self.rnn2(x)\n",
        "\n",
        "    return hidden_n.reshape((self.n_features, self.embedding_dim))"
      ]
    },
    {
      "cell_type": "code",
      "execution_count": null,
      "metadata": {
        "id": "SFJDZRS547YZ"
      },
      "outputs": [],
      "source": [
        "class Decoder(nn.Module):\n",
        "\n",
        "  def __init__(self, seq_len, input_dim=64, n_features=1):\n",
        "    super(Decoder, self).__init__()\n",
        "\n",
        "    self.seq_len, self.input_dim = seq_len, input_dim\n",
        "    self.hidden_dim, self.n_features = 2 * input_dim, n_features\n",
        "\n",
        "    self.rnn1 = nn.LSTM(\n",
        "      input_size=input_dim,\n",
        "      hidden_size=input_dim,\n",
        "      num_layers=1,\n",
        "      batch_first=True\n",
        "    )\n",
        "\n",
        "    self.rnn2 = nn.LSTM(\n",
        "      input_size=input_dim,\n",
        "      hidden_size=self.hidden_dim,\n",
        "      num_layers=1,\n",
        "      batch_first=True\n",
        "    )\n",
        "\n",
        "    self.output_layer = nn.Linear(self.hidden_dim, n_features)\n",
        "\n",
        "  def forward(self, x):\n",
        "    x = x.repeat(self.seq_len, self.n_features)\n",
        "    x = x.reshape((self.n_features, self.seq_len, self.input_dim))\n",
        "\n",
        "    x, (hidden_n, cell_n) = self.rnn1(x)\n",
        "    x, (hidden_n, cell_n) = self.rnn2(x)\n",
        "    x = x.reshape((self.seq_len, self.hidden_dim))\n",
        "\n",
        "    return self.output_layer(x)"
      ]
    },
    {
      "cell_type": "code",
      "execution_count": null,
      "metadata": {
        "id": "XqbREhmA49tB"
      },
      "outputs": [],
      "source": [
        "class RecurrentAutoencoder(nn.Module):\n",
        "\n",
        "  def __init__(self, seq_len, n_features, embedding_dim=64):\n",
        "    super(RecurrentAutoencoder, self).__init__()\n",
        "\n",
        "    self.encoder = Encoder(seq_len, n_features, embedding_dim)\n",
        "    self.decoder = Decoder(seq_len, embedding_dim, n_features)\n",
        "\n",
        "  def forward(self, x):\n",
        "    x = self.encoder(x)\n",
        "    x = self.decoder(x)\n",
        "\n",
        "    return x"
      ]
    },
    {
      "cell_type": "code",
      "execution_count": null,
      "metadata": {
        "id": "O-sgCr5U4_dq"
      },
      "outputs": [],
      "source": [
        "model = RecurrentAutoencoder(TIME_STEPS, 1, 64)\n",
        "model = model.to(device)"
      ]
    },
    {
      "cell_type": "code",
      "source": [],
      "metadata": {
        "id": "ZEi5OO2pLmYN"
      },
      "execution_count": null,
      "outputs": []
    },
    {
      "cell_type": "code",
      "execution_count": null,
      "metadata": {
        "id": "GamkUbDO3DJC"
      },
      "outputs": [],
      "source": [
        "def train_model(model, train_dataset, val_dataset, n_epochs):\n",
        "  optimizer = torch.optim.Adam(model.parameters(), lr=1e-3)\n",
        "  criterion = nn.L1Loss(reduction='sum').to(device)\n",
        "  history = dict(train=[], val=[])\n",
        "  best_model_wts = deepcopy(model.state_dict())\n",
        "  best_loss = 10000.0\n",
        "  for epoch in range(1, n_epochs + 1):\n",
        "    model = model.train()\n",
        "    train_losses = []\n",
        "    for seq_true in train_dataset:\n",
        "      optimizer.zero_grad()\n",
        "      seq_true = seq_true.to(device)\n",
        "      seq_pred = model(seq_true)\n",
        "      loss = criterion(seq_pred, seq_true)\n",
        "      loss.backward()\n",
        "      optimizer.step()\n",
        "      train_losses.append(loss.item())\n",
        "    val_losses = []\n",
        "    model = model.eval()\n",
        "    with torch.no_grad():\n",
        "      for seq_true in val_dataset:\n",
        "        seq_true = seq_true.to(device)\n",
        "        seq_pred = model(seq_true)\n",
        "        loss = criterion(seq_pred, seq_true)\n",
        "        val_losses.append(loss.item())\n",
        "    train_loss = np.mean(train_losses)\n",
        "    val_loss = np.mean(val_losses)\n",
        "    history['train'].append(train_loss)\n",
        "    history['val'].append(val_loss)\n",
        "    if val_loss < best_loss:\n",
        "      best_loss = val_loss\n",
        "      best_model_wts = deepcopy(model.state_dict())\n",
        "    print(f'Epoch {epoch}: train loss {train_loss} val loss {val_loss}')\n",
        "  model.load_state_dict(best_model_wts)\n",
        "  return model.eval(), history"
      ]
    },
    {
      "cell_type": "code",
      "execution_count": null,
      "metadata": {
        "colab": {
          "base_uri": "https://localhost:8080/"
        },
        "id": "WfZzADWp5K6e",
        "outputId": "4fc54d59-e59f-4a34-b607-1511aaf896b9"
      },
      "outputs": [
        {
          "output_type": "stream",
          "name": "stdout",
          "text": [
            "Epoch 1: train loss 0.5374505200484875 val loss 0.6897450297700692\n",
            "Epoch 2: train loss 0.24982152827380394 val loss 0.44284921269054\n",
            "Epoch 3: train loss 0.18888486910594715 val loss 0.2955946032706008\n",
            "Epoch 4: train loss 0.14589759579193573 val loss 0.5047348898040417\n",
            "Epoch 5: train loss 0.1170536779161009 val loss 0.16435834336087488\n",
            "Epoch 6: train loss 0.09604333468200382 val loss 0.1958866328144995\n",
            "Epoch 7: train loss 0.08663437897631303 val loss 0.3493231931113843\n",
            "Epoch 8: train loss 0.0787204454844425 val loss 0.14825423254153908\n",
            "Epoch 9: train loss 0.07610222589421489 val loss 0.22895684672212338\n",
            "Epoch 10: train loss 0.07658637718928685 val loss 0.23377150946455508\n",
            "Epoch 11: train loss 0.07093929596849494 val loss 0.13878911814868986\n",
            "Epoch 12: train loss 0.07107020185764215 val loss 0.10088664673788125\n",
            "Epoch 13: train loss 0.06674792922355911 val loss 0.1670780776645744\n",
            "Epoch 14: train loss 0.05994780897154837 val loss 0.11709264885400228\n",
            "Epoch 15: train loss 0.06136872649280042 val loss 0.14800758106059417\n",
            "Epoch 16: train loss 0.06702148728008503 val loss 0.15687062972713084\n",
            "Epoch 17: train loss 0.056445842145433196 val loss 0.1210221020997167\n",
            "Epoch 18: train loss 0.05319276378823883 val loss 0.30234295997724936\n",
            "Epoch 19: train loss 0.05490248342124507 val loss 0.11041850884740027\n",
            "Epoch 20: train loss 0.05546348517842093 val loss 0.14639441899857578\n",
            "Epoch 21: train loss 0.05336475191894757 val loss 0.1215997524430951\n",
            "Epoch 22: train loss 0.04874908943617583 val loss 0.19000053424401026\n",
            "Epoch 23: train loss 0.05497355217616152 val loss 0.131866175413975\n",
            "Epoch 24: train loss 0.05539336214169152 val loss 0.08918724716830616\n",
            "Epoch 25: train loss 0.050128188139167945 val loss 0.30639445530398496\n",
            "Epoch 26: train loss 0.04868871233621343 val loss 0.2065657991633138\n",
            "Epoch 27: train loss 0.049160134185212354 val loss 0.08625035272529406\n",
            "Epoch 28: train loss 0.046391577581257996 val loss 0.12195621976812722\n",
            "Epoch 29: train loss 0.04744584225413207 val loss 0.20829959506692147\n",
            "Epoch 30: train loss 0.05027438888668478 val loss 0.1105391249597957\n",
            "Epoch 31: train loss 0.046152155979048363 val loss 0.1514248482065418\n",
            "Epoch 32: train loss 0.04896839572648779 val loss 0.1149352936625604\n",
            "Epoch 33: train loss 0.045932078709907335 val loss 0.08368881723764458\n",
            "Epoch 34: train loss 0.04842485316333774 val loss 0.1037871967255555\n",
            "Epoch 35: train loss 0.04712280833036331 val loss 0.16849455146248832\n",
            "Epoch 36: train loss 0.04802930170014153 val loss 0.10986691396593472\n",
            "Epoch 37: train loss 0.04838373811269941 val loss 0.17456186847122396\n",
            "Epoch 38: train loss 0.044450417961703986 val loss 0.10709643727997568\n",
            "Epoch 39: train loss 0.04688061362009922 val loss 0.16910516723651076\n",
            "Epoch 40: train loss 0.04694490930701788 val loss 0.2867955751964543\n",
            "Epoch 41: train loss 0.04238535097799233 val loss 0.10922042641652462\n",
            "Epoch 42: train loss 0.042812051809193716 val loss 0.10171909569881553\n",
            "Epoch 43: train loss 0.04265557453899 val loss 0.06417487797200722\n",
            "Epoch 44: train loss 0.04283366097512876 val loss 0.14959221477077192\n",
            "Epoch 45: train loss 0.03955036715091881 val loss 0.25647247374427984\n",
            "Epoch 46: train loss 0.04492501169010181 val loss 0.1369895664158774\n",
            "Epoch 47: train loss 0.04174490669147642 val loss 0.2050409277064213\n",
            "Epoch 48: train loss 0.03908250495867121 val loss 0.1461632802755957\n",
            "Epoch 49: train loss 0.03938207452244742 val loss 0.07679628882347622\n",
            "Epoch 50: train loss 0.04347019206466969 val loss 0.14445328782907102\n",
            "Epoch 51: train loss 0.0407791194208457 val loss 0.16618039301134455\n",
            "Epoch 52: train loss 0.04019496746851291 val loss 0.20674679295550016\n",
            "Epoch 53: train loss 0.03940348586023621 val loss 0.15124152888838918\n",
            "Epoch 54: train loss 0.039647046296928494 val loss 0.16050729550436663\n",
            "Epoch 55: train loss 0.039718564713642206 val loss 0.08946579953384366\n",
            "Epoch 56: train loss 0.03958721337341267 val loss 0.11844273824488977\n",
            "Epoch 57: train loss 0.037292687204803054 val loss 0.1145003239917932\n",
            "Epoch 58: train loss 0.03630425030846321 val loss 0.11608507251013468\n",
            "Epoch 59: train loss 0.03796476763002857 val loss 0.16692014382168743\n",
            "Epoch 60: train loss 0.03459883765375226 val loss 0.05487344474926992\n"
          ]
        }
      ],
      "source": [
        "model, history = train_model(\n",
        "  model,\n",
        "  X_train,\n",
        "  X_test,\n",
        "  n_epochs=60\n",
        ")"
      ]
    },
    {
      "cell_type": "code",
      "execution_count": null,
      "metadata": {
        "colab": {
          "base_uri": "https://localhost:8080/",
          "height": 430
        },
        "id": "0JoNxl7w7vKT",
        "outputId": "f8c4e39f-5ac2-4618-ccae-67e14d541f7d"
      },
      "outputs": [
        {
          "output_type": "display_data",
          "data": {
            "text/plain": [
              "<Figure size 640x480 with 1 Axes>"
            ],
            "image/png": "[encoded data removed]"
          },
          "metadata": {}
        }
      ],
      "source": [
        "\n",
        "plt.plot(history['train'], label = 'Train')\n",
        "plt.plot(history['val'], label ='Val')\n",
        "plt.legend()\n",
        "plt.show()"
      ]
    },
    {
      "cell_type": "code",
      "execution_count": null,
      "metadata": {
        "id": "ivzOsF168Wia"
      },
      "outputs": [],
      "source": [
        "predictions = []\n",
        "model = model.eval().to('cpu')\n",
        "with torch.no_grad():\n",
        "  for seq_true in X_train:\n",
        "\n",
        "    seq_true = seq_true\n",
        "    seq_pred = model(seq_true)\n",
        "    predictions.append(seq_pred[:][-1].item())\n",
        "  for seq_true in X_test:\n",
        "\n",
        "    seq_true = seq_true\n",
        "    seq_pred = model(seq_true)\n",
        "    predictions.append(seq_pred[:][-1].item())\n",
        "\n"
      ]
    },
    {
      "cell_type": "code",
      "execution_count": null,
      "metadata": {
        "id": "kcLj0yKVATww",
        "colab": {
          "base_uri": "https://localhost:8080/",
          "height": 430
        },
        "outputId": "3c384980-f9ba-4b3c-c589-5c3a75d20292"
      },
      "outputs": [
        {
          "output_type": "display_data",
          "data": {
            "text/plain": [
              "<Figure size 640x480 with 1 Axes>"
            ],
            "image/png": "[encoded data removed]"
          },
          "metadata": {}
        }
      ],
      "source": [
        "\n",
        "plt.plot(df['value'], label = 'Actual')\n",
        "plt.plot(predictions, label ='Predicted')\n",
        "plt.legend()\n",
        "plt.show()"
      ]
    },
    {
      "cell_type": "code",
      "source": [
        "indextracker = []\n",
        "difference = []\n",
        "for x in range(0,len(predictions)):\n",
        "  diff = abs(df['value'][x] - predictions[x])\n",
        "  difference.append(diff)\n",
        "standard_deviation = np.std(difference)\n",
        "Mean = np.mean(difference)\n",
        "for x in range (0,len(difference)):\n",
        " if difference[x] >3*standard_deviation+ Mean:\n",
        "    indextracker.append(x)\n",
        "print(\"The anomalous points are at\" , indextracker)\n",
        "print(\"The total amount of anomalies is\", len(indextracker))"
      ],
      "metadata": {
        "id": "nQ-ftKzOI2kk",
        "colab": {
          "base_uri": "https://localhost:8080/"
        },
        "outputId": "b846eb8b-cdde-4a5a-88ce-f68b3c178ad9"
      },
      "execution_count": null,
      "outputs": [
        {
          "output_type": "stream",
          "name": "stdout",
          "text": [
            "The anomalous points are at [776, 780, 2111, 2115, 5875, 5876, 5878, 5879, 5894, 5895, 5918, 6037, 6038, 6039, 6040, 6041, 6052, 6062, 6063, 6118, 6119, 6121, 6128, 6129, 6130, 6131, 6199, 6200, 6201, 6202, 6203, 6204, 6205, 6214, 6224, 6225, 6226, 6227, 6228, 6236, 6237, 6239, 6240, 6248, 6249, 6250, 6251, 6252, 6260, 6261, 6262, 6263, 6264, 6271, 6273, 6275, 6367, 6368, 6369, 6370, 6371, 6372, 6391, 6392, 6394, 6395, 6752, 6753, 6755, 6870, 6871, 6872, 6873, 6874, 6875, 6896, 6945, 7037, 7038, 7039, 7040, 7041, 7042, 7043, 7044, 7045, 7048, 7049, 7050, 7051, 7052, 7053, 7054, 7055, 7062, 7063, 7064, 7065, 7066, 7067, 7068, 7069, 7075, 7076, 7077, 7078, 7079, 7085, 7086, 7087, 7088, 7089, 7090, 7091, 7099, 7102, 7103, 7104, 7111, 7112, 7113, 7114, 7115, 7124, 7125, 7126, 7127, 7128, 7134, 7135, 7136, 7137, 7138, 7139, 7149, 7150, 7151, 7152, 7153, 7154, 7155, 7204, 7205, 7206, 7207, 7208, 7209, 7210, 7211, 7212, 7220, 7222, 7223, 7224, 7231, 7232, 7233, 7234, 7235, 7243, 7244, 7246, 7255]\n",
            "The total amount of anomalies is 163\n"
          ]
        }
      ]
    },
    {
      "cell_type": "code",
      "source": [
        "DATA2 = pd.read_csv(URL1)#.set_index('timestamp')\n",
        "for x in range(0,len(indextracker)):\n",
        "  print(DATA2.iloc[indextracker[x]]['timestamp'])"
      ],
      "metadata": {
        "id": "WUWgV3wWI4dQ",
        "colab": {
          "base_uri": "https://localhost:8080/"
        },
        "outputId": "8678e642-51cd-4fcb-fd32-4aa3175c0ce4"
      },
      "execution_count": null,
      "outputs": [
        {
          "output_type": "stream",
          "name": "stdout",
          "text": [
            "2013-08-06 21:00:00\n",
            "2013-08-07 01:00:00\n",
            "2013-10-16 23:00:00\n",
            "2013-10-17 03:00:00\n",
            "2014-03-24 02:00:00\n",
            "2014-03-24 03:00:00\n",
            "2014-03-24 19:00:00\n",
            "2014-03-24 20:00:00\n",
            "2014-03-25 11:00:00\n",
            "2014-03-25 12:00:00\n",
            "2014-03-26 11:00:00\n",
            "2014-03-31 10:00:00\n",
            "2014-03-31 11:00:00\n",
            "2014-03-31 12:00:00\n",
            "2014-03-31 13:00:00\n",
            "2014-03-31 14:00:00\n",
            "2014-04-01 01:00:00\n",
            "2014-04-01 11:00:00\n",
            "2014-04-01 12:00:00\n",
            "2014-04-11 00:00:00\n",
            "2014-04-11 01:00:00\n",
            "2014-04-11 03:00:00\n",
            "2014-04-11 10:00:00\n",
            "2014-04-11 11:00:00\n",
            "2014-04-11 12:00:00\n",
            "2014-04-11 13:00:00\n",
            "2014-04-14 09:00:00\n",
            "2014-04-14 10:00:00\n",
            "2014-04-14 11:00:00\n",
            "2014-04-14 12:00:00\n",
            "2014-04-14 13:00:00\n",
            "2014-04-14 14:00:00\n",
            "2014-04-14 15:00:00\n",
            "2014-04-15 00:00:00\n",
            "2014-04-15 10:00:00\n",
            "2014-04-15 11:00:00\n",
            "2014-04-15 12:00:00\n",
            "2014-04-15 13:00:00\n",
            "2014-04-15 14:00:00\n",
            "2014-04-15 22:00:00\n",
            "2014-04-15 23:00:00\n",
            "2014-04-16 01:00:00\n",
            "2014-04-16 02:00:00\n",
            "2014-04-16 10:00:00\n",
            "2014-04-16 11:00:00\n",
            "2014-04-16 12:00:00\n",
            "2014-04-16 13:00:00\n",
            "2014-04-16 14:00:00\n",
            "2014-04-16 22:00:00\n",
            "2014-04-16 23:00:00\n",
            "2014-04-17 00:00:00\n",
            "2014-04-17 01:00:00\n",
            "2014-04-17 02:00:00\n",
            "2014-04-17 09:00:00\n",
            "2014-04-17 11:00:00\n",
            "2014-04-17 13:00:00\n",
            "2014-04-21 09:00:00\n",
            "2014-04-21 10:00:00\n",
            "2014-04-21 11:00:00\n",
            "2014-04-21 12:00:00\n",
            "2014-04-21 13:00:00\n",
            "2014-04-21 14:00:00\n",
            "2014-04-22 09:00:00\n",
            "2014-04-22 10:00:00\n",
            "2014-04-22 12:00:00\n",
            "2014-04-22 13:00:00\n",
            "2014-05-07 10:00:00\n",
            "2014-05-07 11:00:00\n",
            "2014-05-07 13:00:00\n",
            "2014-05-12 08:00:00\n",
            "2014-05-12 09:00:00\n",
            "2014-05-12 10:00:00\n",
            "2014-05-12 11:00:00\n",
            "2014-05-12 12:00:00\n",
            "2014-05-12 13:00:00\n",
            "2014-05-13 10:00:00\n",
            "2014-05-15 11:00:00\n",
            "2014-05-19 07:00:00\n",
            "2014-05-19 08:00:00\n",
            "2014-05-19 09:00:00\n",
            "2014-05-19 10:00:00\n",
            "2014-05-19 11:00:00\n",
            "2014-05-19 12:00:00\n",
            "2014-05-19 13:00:00\n",
            "2014-05-19 14:00:00\n",
            "2014-05-19 15:00:00\n",
            "2014-05-19 18:00:00\n",
            "2014-05-19 19:00:00\n",
            "2014-05-19 20:00:00\n",
            "2014-05-19 21:00:00\n",
            "2014-05-19 22:00:00\n",
            "2014-05-19 23:00:00\n",
            "2014-05-20 00:00:00\n",
            "2014-05-20 01:00:00\n",
            "2014-05-20 08:00:00\n",
            "2014-05-20 09:00:00\n",
            "2014-05-20 10:00:00\n",
            "2014-05-20 11:00:00\n",
            "2014-05-20 12:00:00\n",
            "2014-05-20 13:00:00\n",
            "2014-05-20 14:00:00\n",
            "2014-05-20 15:00:00\n",
            "2014-05-20 21:00:00\n",
            "2014-05-20 22:00:00\n",
            "2014-05-20 23:00:00\n",
            "2014-05-21 00:00:00\n",
            "2014-05-21 01:00:00\n",
            "2014-05-21 07:00:00\n",
            "2014-05-21 08:00:00\n",
            "2014-05-21 09:00:00\n",
            "2014-05-21 10:00:00\n",
            "2014-05-21 11:00:00\n",
            "2014-05-21 12:00:00\n",
            "2014-05-21 13:00:00\n",
            "2014-05-21 21:00:00\n",
            "2014-05-22 00:00:00\n",
            "2014-05-22 01:00:00\n",
            "2014-05-22 02:00:00\n",
            "2014-05-22 09:00:00\n",
            "2014-05-22 10:00:00\n",
            "2014-05-22 11:00:00\n",
            "2014-05-22 12:00:00\n",
            "2014-05-22 13:00:00\n",
            "2014-05-22 22:00:00\n",
            "2014-05-22 23:00:00\n",
            "2014-05-23 00:00:00\n",
            "2014-05-23 01:00:00\n",
            "2014-05-23 02:00:00\n",
            "2014-05-23 08:00:00\n",
            "2014-05-23 09:00:00\n",
            "2014-05-23 10:00:00\n",
            "2014-05-23 11:00:00\n",
            "2014-05-23 12:00:00\n",
            "2014-05-23 13:00:00\n",
            "2014-05-23 23:00:00\n",
            "2014-05-24 00:00:00\n",
            "2014-05-24 01:00:00\n",
            "2014-05-24 02:00:00\n",
            "2014-05-24 03:00:00\n",
            "2014-05-24 04:00:00\n",
            "2014-05-24 05:00:00\n",
            "2014-05-26 06:00:00\n",
            "2014-05-26 07:00:00\n",
            "2014-05-26 08:00:00\n",
            "2014-05-26 09:00:00\n",
            "2014-05-26 10:00:00\n",
            "2014-05-26 11:00:00\n",
            "2014-05-26 12:00:00\n",
            "2014-05-26 13:00:00\n",
            "2014-05-26 14:00:00\n",
            "2014-05-26 22:00:00\n",
            "2014-05-27 00:00:00\n",
            "2014-05-27 01:00:00\n",
            "2014-05-27 02:00:00\n",
            "2014-05-27 09:00:00\n",
            "2014-05-27 10:00:00\n",
            "2014-05-27 11:00:00\n",
            "2014-05-27 12:00:00\n",
            "2014-05-27 13:00:00\n",
            "2014-05-27 21:00:00\n",
            "2014-05-27 22:00:00\n",
            "2014-05-28 00:00:00\n",
            "2014-05-28 09:00:00\n"
          ]
        }
      ]
    },
    {
      "cell_type": "markdown",
      "source": [
        " \"2013-12-22 20:00:00\",\n",
        "\n",
        "\"2014-04-13 09:00:00\"\n"
      ],
      "metadata": {
        "id": "ydmSbgQyBUNY"
      }
    }
  ]
}