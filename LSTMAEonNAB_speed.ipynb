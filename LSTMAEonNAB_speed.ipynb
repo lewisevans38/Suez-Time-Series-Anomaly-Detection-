{
  "nbformat": 4,
  "nbformat_minor": 0,
  "metadata": {
    "colab": {
      "provenance": [],
      "machine_shape": "hm",
      "gpuType": "V100",
      "authorship_tag": "ABX9TyNd5e5NZLD2nU1+uWTNoKHj",
      "include_colab_link": true
    },
    "kernelspec": {
      "name": "python3",
      "display_name": "Python 3"
    },
    "language_info": {
      "name": "python"
    },
    "accelerator": "GPU"
  },
  "cells": [
    {
      "cell_type": "markdown",
      "metadata": {
        "id": "view-in-github",
        "colab_type": "text"
      },
      "source": [
        "<a href=\"https://colab.research.google.com/github/lewisevans38/Suez-Time-Series-Anomaly-Detection-/blob/main/LSTMAEonNAB_speed.ipynb\" target=\"_parent\"><img src=\"https://colab.research.google.com/assets/colab-badge.svg\" alt=\"Open In Colab\"/></a>"
      ]
    },
    {
      "cell_type": "markdown",
      "source": [
        "Base code taken from\n",
        " https://curiousily.com/posts/time-series-anomaly-detection-using-lstm-autoencoder-with-pytorch-in-python/\n",
        "\n",
        " Modified where appropriate so that the code works for the NAB dataset and shows fit/ reconstruction error and detects anomalies."
      ],
      "metadata": {
        "id": "__rp1YF4M9pE"
      }
    },
    {
      "cell_type": "code",
      "execution_count": null,
      "metadata": {
        "id": "IINlMgtTIUs-"
      },
      "outputs": [],
      "source": [
        "import numpy as np\n",
        "import pandas as pd\n",
        "import torch\n",
        "from torch import nn\n",
        "from matplotlib import pyplot as plt\n",
        "import math\n",
        "from copy import deepcopy\n",
        "from sklearn.model_selection import train_test_split\n"
      ]
    },
    {
      "cell_type": "code",
      "execution_count": null,
      "metadata": {
        "id": "Vbd4NvUH1Q9e"
      },
      "outputs": [],
      "source": [
        "URL1= \"https://raw.githubusercontent.com/numenta/NAB/master/data/realTraffic/speed_6005.csv\"\n",
        "DATA1 = pd.read_csv(URL1)\n",
        "DATA1\n",
        "device = torch.device('cuda' if torch.cuda.is_available() else 'cpu')"
      ]
    },
    {
      "cell_type": "code",
      "execution_count": null,
      "metadata": {
        "colab": {
          "base_uri": "https://localhost:8080/"
        },
        "id": "OViPXdBC1Ufe",
        "outputId": "927ef33d-0e48-4ba1-9a37-9fe3298c2d91"
      },
      "outputs": [
        {
          "output_type": "stream",
          "name": "stdout",
          "text": [
            "(2000, 2) (500, 2)\n"
          ]
        },
        {
          "output_type": "stream",
          "name": "stderr",
          "text": [
            "<ipython-input-19-0d285568ce3f>:10: SettingWithCopyWarning: \n",
            "A value is trying to be set on a copy of a slice from a DataFrame.\n",
            "Try using .loc[row_indexer,col_indexer] = value instead\n",
            "\n",
            "See the caveats in the documentation: https://pandas.pydata.org/pandas-docs/stable/user_guide/indexing.html#returning-a-view-versus-a-copy\n",
            "  train['value'] = scaler.transform(train[['value']])\n",
            "<ipython-input-19-0d285568ce3f>:11: SettingWithCopyWarning: \n",
            "A value is trying to be set on a copy of a slice from a DataFrame.\n",
            "Try using .loc[row_indexer,col_indexer] = value instead\n",
            "\n",
            "See the caveats in the documentation: https://pandas.pydata.org/pandas-docs/stable/user_guide/indexing.html#returning-a-view-versus-a-copy\n",
            "  test['value'] = scaler.transform(test[['value']])\n"
          ]
        }
      ],
      "source": [
        "df = DATA1\n",
        "train_size = int(len(df) * 0.80)\n",
        "test_size = len(df) - train_size\n",
        "train, test = df.iloc[0:train_size], df.iloc[train_size:len(df)]\n",
        "print(train.shape, test.shape)\n",
        "\n",
        "from sklearn.preprocessing import MinMaxScaler\n",
        "scaler = MinMaxScaler(feature_range =(-1,1))\n",
        "scaler = scaler.fit(train[['value']])\n",
        "train['value'] = scaler.transform(train[['value']])\n",
        "test['value'] = scaler.transform(test[['value']])\n",
        "df['value'] = scaler.transform(df[['value']])\n",
        "\n"
      ]
    },
    {
      "cell_type": "code",
      "execution_count": null,
      "metadata": {
        "id": "zpLeEyzg25RP"
      },
      "outputs": [],
      "source": [
        "def create_dataset(X, y, time_steps):\n",
        "    Xs, ys = [], []\n",
        "    for i in range(len(X) - time_steps):\n",
        "        v = X.iloc[i:(i + time_steps)].values\n",
        "        Xs.append(v)\n",
        "        ys.append(y.iloc[i + time_steps])\n",
        "    return np.array(Xs), np.array(ys)"
      ]
    },
    {
      "cell_type": "code",
      "execution_count": null,
      "metadata": {
        "colab": {
          "base_uri": "https://localhost:8080/"
        },
        "id": "PN6wuVkk2uWd",
        "outputId": "16a38273-1522-4ad3-d725-5960089d3bf6"
      },
      "outputs": [
        {
          "output_type": "stream",
          "name": "stdout",
          "text": [
            "(1995, 5, 1)\n",
            "torch.Size([1995, 5, 1])\n"
          ]
        }
      ],
      "source": [
        "TIME_STEPS = 5\n",
        "# reshape to [samples, time_steps, n_features]\n",
        "X_train, y_train = create_dataset(\n",
        "  train[['value']],\n",
        "  train.value,\n",
        "  TIME_STEPS\n",
        ")\n",
        "X_test, y_test = create_dataset(\n",
        "  test[['value']],\n",
        "  test.value,\n",
        "  TIME_STEPS\n",
        ")\n",
        "print(X_train.shape)\n",
        "\n",
        "##Turn into pytorch tensors\n",
        "X_train = torch.tensor(X_train).float()\n",
        "y_train = torch.tensor(y_train).float()\n",
        "X_test = torch.tensor(X_test).float()\n",
        "y_test = torch.tensor(y_test).float()\n",
        "\n",
        "print(X_train.shape)"
      ]
    },
    {
      "cell_type": "code",
      "execution_count": null,
      "metadata": {
        "id": "C6XnPjuv424F"
      },
      "outputs": [],
      "source": [
        "class Encoder(nn.Module):\n",
        "\n",
        "  def __init__(self, seq_len, n_features, embedding_dim=64):\n",
        "    super(Encoder, self).__init__()\n",
        "\n",
        "    self.seq_len, self.n_features = seq_len, n_features\n",
        "    self.embedding_dim, self.hidden_dim = embedding_dim, 2 * embedding_dim\n",
        "\n",
        "    self.rnn1 = nn.LSTM(\n",
        "      input_size=n_features,\n",
        "      hidden_size=self.hidden_dim,\n",
        "      num_layers=1,\n",
        "      batch_first=True\n",
        "    )\n",
        "\n",
        "    self.rnn2 = nn.LSTM(\n",
        "      input_size=self.hidden_dim,\n",
        "      hidden_size=embedding_dim,\n",
        "      num_layers=1,\n",
        "      batch_first=True\n",
        "    )\n",
        "\n",
        "  def forward(self, x):\n",
        "    x = x.reshape((1, self.seq_len, self.n_features))\n",
        "\n",
        "    x, (_, _) = self.rnn1(x)\n",
        "    x, (hidden_n, _) = self.rnn2(x)\n",
        "\n",
        "    return hidden_n.reshape((self.n_features, self.embedding_dim))"
      ]
    },
    {
      "cell_type": "code",
      "execution_count": null,
      "metadata": {
        "id": "SFJDZRS547YZ"
      },
      "outputs": [],
      "source": [
        "class Decoder(nn.Module):\n",
        "\n",
        "  def __init__(self, seq_len, input_dim=64, n_features=1):\n",
        "    super(Decoder, self).__init__()\n",
        "\n",
        "    self.seq_len, self.input_dim = seq_len, input_dim\n",
        "    self.hidden_dim, self.n_features = 2 * input_dim, n_features\n",
        "\n",
        "    self.rnn1 = nn.LSTM(\n",
        "      input_size=input_dim,\n",
        "      hidden_size=input_dim,\n",
        "      num_layers=1,\n",
        "      batch_first=True\n",
        "    )\n",
        "\n",
        "    self.rnn2 = nn.LSTM(\n",
        "      input_size=input_dim,\n",
        "      hidden_size=self.hidden_dim,\n",
        "      num_layers=1,\n",
        "      batch_first=True\n",
        "    )\n",
        "\n",
        "    self.output_layer = nn.Linear(self.hidden_dim, n_features)\n",
        "\n",
        "  def forward(self, x):\n",
        "    x = x.repeat(self.seq_len, self.n_features)\n",
        "    x = x.reshape((self.n_features, self.seq_len, self.input_dim))\n",
        "\n",
        "    x, (hidden_n, cell_n) = self.rnn1(x)\n",
        "    x, (hidden_n, cell_n) = self.rnn2(x)\n",
        "    x = x.reshape((self.seq_len, self.hidden_dim))\n",
        "\n",
        "    return self.output_layer(x)"
      ]
    },
    {
      "cell_type": "code",
      "execution_count": null,
      "metadata": {
        "id": "XqbREhmA49tB"
      },
      "outputs": [],
      "source": [
        "class RecurrentAutoencoder(nn.Module):\n",
        "\n",
        "  def __init__(self, seq_len, n_features, embedding_dim=64):\n",
        "    super(RecurrentAutoencoder, self).__init__()\n",
        "\n",
        "    self.encoder = Encoder(seq_len, n_features, embedding_dim)\n",
        "    self.decoder = Decoder(seq_len, embedding_dim, n_features)\n",
        "\n",
        "  def forward(self, x):\n",
        "    x = self.encoder(x)\n",
        "    x = self.decoder(x)\n",
        "\n",
        "    return x"
      ]
    },
    {
      "cell_type": "code",
      "execution_count": null,
      "metadata": {
        "id": "O-sgCr5U4_dq"
      },
      "outputs": [],
      "source": [
        "model = RecurrentAutoencoder(TIME_STEPS, 1, 64)\n",
        "model = model.to(device)"
      ]
    },
    {
      "cell_type": "code",
      "source": [],
      "metadata": {
        "id": "ZEi5OO2pLmYN"
      },
      "execution_count": null,
      "outputs": []
    },
    {
      "cell_type": "code",
      "execution_count": null,
      "metadata": {
        "id": "GamkUbDO3DJC"
      },
      "outputs": [],
      "source": [
        "def train_model(model, train_dataset, val_dataset, n_epochs):\n",
        "  optimizer = torch.optim.Adam(model.parameters(), lr=1e-3)\n",
        "  criterion = nn.L1Loss(reduction='sum').to(device)\n",
        "  history = dict(train=[], val=[])\n",
        "  best_model_wts = deepcopy(model.state_dict())\n",
        "  best_loss = 10000.0\n",
        "  for epoch in range(1, n_epochs + 1):\n",
        "    model = model.train()\n",
        "    train_losses = []\n",
        "    for seq_true in train_dataset:\n",
        "      optimizer.zero_grad()\n",
        "      seq_true = seq_true.to(device)\n",
        "      seq_pred = model(seq_true)\n",
        "      loss = criterion(seq_pred, seq_true)\n",
        "      loss.backward()\n",
        "      optimizer.step()\n",
        "      train_losses.append(loss.item())\n",
        "    val_losses = []\n",
        "    model = model.eval()\n",
        "    with torch.no_grad():\n",
        "      for seq_true in val_dataset:\n",
        "        seq_true = seq_true.to(device)\n",
        "        seq_pred = model(seq_true)\n",
        "        loss = criterion(seq_pred, seq_true)\n",
        "        val_losses.append(loss.item())\n",
        "    train_loss = np.mean(train_losses)\n",
        "    val_loss = np.mean(val_losses)\n",
        "    history['train'].append(train_loss)\n",
        "    history['val'].append(val_loss)\n",
        "    if val_loss < best_loss:\n",
        "      best_loss = val_loss\n",
        "      best_model_wts = deepcopy(model.state_dict())\n",
        "    print(f'Epoch {epoch}: train loss {train_loss} val loss {val_loss}')\n",
        "  model.load_state_dict(best_model_wts)\n",
        "  return model.eval(), history"
      ]
    },
    {
      "cell_type": "code",
      "execution_count": null,
      "metadata": {
        "colab": {
          "base_uri": "https://localhost:8080/"
        },
        "id": "WfZzADWp5K6e",
        "outputId": "fd127259-f908-49ba-ae85-a32a6742acce"
      },
      "outputs": [
        {
          "output_type": "stream",
          "name": "stdout",
          "text": [
            "Epoch 1: train loss 0.9257967018020482 val loss 0.7984886965065291\n",
            "Epoch 2: train loss 0.6327737723712933 val loss 0.5324966025472891\n",
            "Epoch 3: train loss 0.4324524820205711 val loss 0.3741620483723554\n",
            "Epoch 4: train loss 0.3783625743125465 val loss 0.3455302234174627\n",
            "Epoch 5: train loss 0.21987112794435562 val loss 0.1394087636975026\n",
            "Epoch 6: train loss 0.13241938851624355 val loss 0.14419303066050163\n",
            "Epoch 7: train loss 0.11793803047099359 val loss 0.12293666959410966\n",
            "Epoch 8: train loss 0.12005318099805586 val loss 0.11212162032648168\n",
            "Epoch 9: train loss 0.10816926132037974 val loss 0.1197543199766766\n",
            "Epoch 10: train loss 0.09939248694811847 val loss 0.13685092334494448\n",
            "Epoch 11: train loss 0.0930312188281526 val loss 0.105681295444568\n",
            "Epoch 12: train loss 0.09573082246521213 val loss 0.16098223493406266\n",
            "Epoch 13: train loss 0.09477069920913916 val loss 0.11781021145106566\n",
            "Epoch 14: train loss 0.08930838065114535 val loss 0.09440763986321411\n",
            "Epoch 15: train loss 0.08725548928281418 val loss 0.0868105759373819\n",
            "Epoch 16: train loss 0.09033284245110246 val loss 0.10031194103637127\n",
            "Epoch 17: train loss 0.08128684605740216 val loss 0.08764145030367254\n",
            "Epoch 18: train loss 0.08381665856915907 val loss 0.12247514645710136\n",
            "Epoch 19: train loss 0.08165151545110352 val loss 0.07961213473569263\n",
            "Epoch 20: train loss 0.07719164980589448 val loss 0.105195395482911\n",
            "Epoch 21: train loss 0.0764985137714778 val loss 0.07279676520312675\n",
            "Epoch 22: train loss 0.0773961140305028 val loss 0.08607736115503793\n",
            "Epoch 23: train loss 0.07281792411267907 val loss 0.07096545572082201\n",
            "Epoch 24: train loss 0.07339744363587004 val loss 0.09294770764130535\n",
            "Epoch 25: train loss 0.07149992150658355 val loss 0.06725555570288137\n",
            "Epoch 26: train loss 0.07392605084524417 val loss 0.07587452788244595\n",
            "Epoch 27: train loss 0.06705476749398953 val loss 0.09671711090086686\n",
            "Epoch 28: train loss 0.07193654828464477 val loss 0.07073672005925516\n",
            "Epoch 29: train loss 0.06569688749642001 val loss 0.07455495158680761\n",
            "Epoch 30: train loss 0.06839886524324727 val loss 0.08634825694290074\n",
            "Epoch 31: train loss 0.06642331686571129 val loss 0.07514520069264402\n",
            "Epoch 32: train loss 0.06812384970542183 val loss 0.06708223480317328\n",
            "Epoch 33: train loss 0.06486480383197765 val loss 0.08023395025067859\n",
            "Epoch 34: train loss 0.06227978075805463 val loss 0.0763105712755762\n",
            "Epoch 35: train loss 0.066054231398984 val loss 0.05561288239979985\n",
            "Epoch 36: train loss 0.06328731845308067 val loss 0.07920138969866916\n",
            "Epoch 37: train loss 0.06651597958907747 val loss 0.06948129091449458\n",
            "Epoch 38: train loss 0.06181872120327818 val loss 0.053579738916772784\n",
            "Epoch 39: train loss 0.061291772069264776 val loss 0.07625826591945657\n",
            "Epoch 40: train loss 0.06293853555705613 val loss 0.06648484971186128\n",
            "Epoch 41: train loss 0.06002930495187752 val loss 0.06316506485595848\n",
            "Epoch 42: train loss 0.055511373006983805 val loss 0.059468968844775\n",
            "Epoch 43: train loss 0.05891604063318188 val loss 0.06939074188621357\n",
            "Epoch 44: train loss 0.05580477937309067 val loss 0.09766094874251972\n",
            "Epoch 45: train loss 0.055376137126433224 val loss 0.05954226928226876\n",
            "Epoch 46: train loss 0.05782607829847133 val loss 0.09233951742450396\n",
            "Epoch 47: train loss 0.057245899133739016 val loss 0.05379995438787672\n",
            "Epoch 48: train loss 0.0539755890542702 val loss 0.0755129950215118\n",
            "Epoch 49: train loss 0.05833746212205492 val loss 0.07525095676231866\n",
            "Epoch 50: train loss 0.05619597757856051 val loss 0.05903713604567027\n",
            "Epoch 51: train loss 0.05925774482781427 val loss 0.05738050331069965\n",
            "Epoch 52: train loss 0.0525688759160968 val loss 0.06720097732513843\n",
            "Epoch 53: train loss 0.057368118909740806 val loss 0.06461516665388839\n",
            "Epoch 54: train loss 0.056422482968721176 val loss 0.06755707017099015\n",
            "Epoch 55: train loss 0.053439305948658394 val loss 0.05881098662361954\n",
            "Epoch 56: train loss 0.05320738011359571 val loss 0.06280840219120787\n",
            "Epoch 57: train loss 0.054322973069242365 val loss 0.04929973702087547\n",
            "Epoch 58: train loss 0.05299141364438193 val loss 0.08343623090121481\n",
            "Epoch 59: train loss 0.05165458830227529 val loss 0.06049193645818065\n",
            "Epoch 60: train loss 0.05152556507808523 val loss 0.06710406673526523\n"
          ]
        }
      ],
      "source": [
        "model, history = train_model(\n",
        "  model,\n",
        "  X_train,\n",
        "  X_test,\n",
        "  n_epochs=60\n",
        ")"
      ]
    },
    {
      "cell_type": "code",
      "execution_count": null,
      "metadata": {
        "colab": {
          "base_uri": "https://localhost:8080/",
          "height": 430
        },
        "id": "0JoNxl7w7vKT",
        "outputId": "8e30951a-e9d7-4653-c3ab-01f15c04462a"
      },
      "outputs": [
        {
          "output_type": "display_data",
          "data": {
            "text/plain": [
              "<Figure size 640x480 with 1 Axes>"
            ],
            "image/png": "[encoded data removed]"
          },
          "metadata": {}
        }
      ],
      "source": [
        "\n",
        "plt.plot(history['train'], label = 'Train')\n",
        "plt.plot(history['val'], label ='Val')\n",
        "plt.legend()\n",
        "plt.show()"
      ]
    },
    {
      "cell_type": "code",
      "execution_count": null,
      "metadata": {
        "id": "ivzOsF168Wia"
      },
      "outputs": [],
      "source": [
        "predictions = []\n",
        "model = model.eval().to('cpu')\n",
        "with torch.no_grad():\n",
        "  for seq_true in X_train:\n",
        "\n",
        "    seq_true = seq_true\n",
        "    seq_pred = model(seq_true)\n",
        "    predictions.append(seq_pred[:][-1].item())\n",
        "  for seq_true in X_test:\n",
        "\n",
        "    seq_true = seq_true\n",
        "    seq_pred = model(seq_true)\n",
        "    predictions.append(seq_pred[:][-1].item())\n",
        "\n"
      ]
    },
    {
      "cell_type": "code",
      "execution_count": null,
      "metadata": {
        "id": "kcLj0yKVATww",
        "colab": {
          "base_uri": "https://localhost:8080/",
          "height": 430
        },
        "outputId": "071ebce3-cda3-41d4-d664-834271052a9e"
      },
      "outputs": [
        {
          "output_type": "display_data",
          "data": {
            "text/plain": [
              "<Figure size 640x480 with 1 Axes>"
            ],
            "image/png": "[encoded data removed]"
          },
          "metadata": {}
        }
      ],
      "source": [
        "\n",
        "plt.plot(df['value'], label = 'Actual')\n",
        "plt.plot(predictions, label ='Predicted')\n",
        "plt.legend()\n",
        "plt.show()"
      ]
    },
    {
      "cell_type": "markdown",
      "source": [
        "This plot is backwards because of some code I ran to make sure my data was moving in the right direction. The plot that is included in the project is data that hadnt been flipped. Running this notebook again will produce the right orientation of data."
      ],
      "metadata": {
        "id": "REUmMO8iQQhJ"
      }
    },
    {
      "cell_type": "code",
      "source": [
        "indextracker = []\n",
        "difference = []\n",
        "for x in range(0,len(predictions)):\n",
        "  diff = abs(df['value'][x] - predictions[x])\n",
        "  difference.append(diff)\n",
        "standard_deviation = np.std(difference)\n",
        "Mean = np.mean(difference)\n",
        "for x in range (0,len(difference)):\n",
        " if difference[x] >3*standard_deviation+ Mean:\n",
        "    indextracker.append(x)\n",
        "print(\"The anomalous points are at\" , indextracker)\n",
        "print(\"The total amount of anomalies is\", len(indextracker))"
      ],
      "metadata": {
        "id": "nQ-ftKzOI2kk",
        "colab": {
          "base_uri": "https://localhost:8080/"
        },
        "outputId": "41068d2b-27dd-40b5-aa68-a59522aedfb0"
      },
      "execution_count": null,
      "outputs": [
        {
          "output_type": "stream",
          "name": "stdout",
          "text": [
            "The anomalous points are at [25, 26, 38, 158, 181, 456, 932, 1259, 1263, 1264, 1721, 1757, 1799, 1880, 1935, 2074, 2080, 2081, 2154, 2233, 2304, 2308, 2377, 2380, 2384, 2386, 2389, 2393, 2401]\n",
            "The total amount of anomalies is 29\n"
          ]
        }
      ]
    },
    {
      "cell_type": "code",
      "source": [
        "DATA2 = pd.read_csv(URL1)#.set_index('timestamp')\n",
        "for x in range(0,len(indextracker)):\n",
        "  print(DATA2.iloc[indextracker[x]]['timestamp'])"
      ],
      "metadata": {
        "id": "WUWgV3wWI4dQ",
        "colab": {
          "base_uri": "https://localhost:8080/"
        },
        "outputId": "f9fdec0e-967b-4324-fa07-edd5f1b8faf4"
      },
      "execution_count": null,
      "outputs": [
        {
          "output_type": "stream",
          "name": "stdout",
          "text": [
            "2015-09-01 00:17:00\n",
            "2015-09-01 00:22:00\n",
            "2015-09-01 03:52:00\n",
            "2015-09-01 21:05:00\n",
            "2015-09-02 03:10:00\n",
            "2015-09-03 14:06:00\n",
            "2015-09-10 08:33:00\n",
            "2015-09-11 23:41:00\n",
            "2015-09-12 00:41:00\n",
            "2015-09-12 00:46:00\n",
            "2015-09-14 14:00:00\n",
            "2015-09-14 17:00:00\n",
            "2015-09-14 21:05:00\n",
            "2015-09-15 06:35:00\n",
            "2015-09-15 11:31:00\n",
            "2015-09-16 00:54:00\n",
            "2015-09-16 01:29:00\n",
            "2015-09-16 01:34:00\n",
            "2015-09-16 09:14:00\n",
            "2015-09-16 16:05:00\n",
            "2015-09-16 22:30:00\n",
            "2015-09-16 23:00:00\n",
            "2015-09-17 06:15:00\n",
            "2015-09-17 06:30:00\n",
            "2015-09-17 06:50:00\n",
            "2015-09-17 07:00:00\n",
            "2015-09-17 07:15:00\n",
            "2015-09-17 07:35:00\n",
            "2015-09-17 08:15:00\n"
          ]
        }
      ]
    },
    {
      "cell_type": "markdown",
      "source": [
        "\"2015-09-17 07:00:00\"\n"
      ],
      "metadata": {
        "id": "ydmSbgQyBUNY"
      }
    }
  ]
}