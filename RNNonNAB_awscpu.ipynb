{
  "nbformat": 4,
  "nbformat_minor": 0,
  "metadata": {
    "colab": {
      "provenance": [],
      "authorship_tag": "ABX9TyOiQA+RH4RsnvRiCmRXSyDW",
      "include_colab_link": true
    },
    "kernelspec": {
      "name": "python3",
      "display_name": "Python 3"
    },
    "language_info": {
      "name": "python"
    }
  },
  "cells": [
    {
      "cell_type": "markdown",
      "metadata": {
        "id": "view-in-github",
        "colab_type": "text"
      },
      "source": [
        "<a href=\"https://colab.research.google.com/github/lewisevans38/Suez-Time-Series-Anomaly-Detection-/blob/main/RNNonNAB_awscpu.ipynb\" target=\"_parent\"><img src=\"https://colab.research.google.com/assets/colab-badge.svg\" alt=\"Open In Colab\"/></a>"
      ]
    },
    {
      "cell_type": "code",
      "execution_count": null,
      "metadata": {
        "id": "YBNi--dtC5fK"
      },
      "outputs": [],
      "source": [
        "import numpy as np\n",
        "import pandas as pd\n",
        "import torch\n",
        "from torch import nn\n",
        "from matplotlib import pyplot as plt"
      ]
    },
    {
      "cell_type": "code",
      "execution_count": null,
      "metadata": {
        "id": "5bqQNwTEDDGA",
        "colab": {
          "base_uri": "https://localhost:8080/",
          "height": 424
        },
        "outputId": "8fb4aafb-44cf-4437-cf26-2708d6a47211"
      },
      "outputs": [
        {
          "output_type": "execute_result",
          "data": {
            "text/plain": [
              "                timestamp  value\n",
              "0     2014-02-14 14:30:00  0.132\n",
              "1     2014-02-14 14:35:00  0.134\n",
              "2     2014-02-14 14:40:00  0.134\n",
              "3     2014-02-14 14:45:00  0.134\n",
              "4     2014-02-14 14:50:00  0.134\n",
              "...                   ...    ...\n",
              "4027  2014-02-28 14:05:00  0.132\n",
              "4028  2014-02-28 14:10:00  0.134\n",
              "4029  2014-02-28 14:15:00  0.134\n",
              "4030  2014-02-28 14:20:00  0.134\n",
              "4031  2014-02-28 14:25:00  0.134\n",
              "\n",
              "[4032 rows x 2 columns]"
            ],
            "text/html": [
              "\n",
              "  <div id=\"df-5ffcad7d-e305-43cc-89ba-85f37f38cfc9\" class=\"colab-df-container\">\n",
              "    <div>\n",
              "<style scoped>\n",
              "    .dataframe tbody tr th:only-of-type {\n",
              "        vertical-align: middle;\n",
              "    }\n",
              "\n",
              "    .dataframe tbody tr th {\n",
              "        vertical-align: top;\n",
              "    }\n",
              "\n",
              "    .dataframe thead th {\n",
              "        text-align: right;\n",
              "    }\n",
              "</style>\n",
              "<table border=\"1\" class=\"dataframe\">\n",
              "  <thead>\n",
              "    <tr style=\"text-align: right;\">\n",
              "      <th></th>\n",
              "      <th>timestamp</th>\n",
              "      <th>value</th>\n",
              "    </tr>\n",
              "  </thead>\n",
              "  <tbody>\n",
              "    <tr>\n",
              "      <th>0</th>\n",
              "      <td>2014-02-14 14:30:00</td>\n",
              "      <td>0.132</td>\n",
              "    </tr>\n",
              "    <tr>\n",
              "      <th>1</th>\n",
              "      <td>2014-02-14 14:35:00</td>\n",
              "      <td>0.134</td>\n",
              "    </tr>\n",
              "    <tr>\n",
              "      <th>2</th>\n",
              "      <td>2014-02-14 14:40:00</td>\n",
              "      <td>0.134</td>\n",
              "    </tr>\n",
              "    <tr>\n",
              "      <th>3</th>\n",
              "      <td>2014-02-14 14:45:00</td>\n",
              "      <td>0.134</td>\n",
              "    </tr>\n",
              "    <tr>\n",
              "      <th>4</th>\n",
              "      <td>2014-02-14 14:50:00</td>\n",
              "      <td>0.134</td>\n",
              "    </tr>\n",
              "    <tr>\n",
              "      <th>...</th>\n",
              "      <td>...</td>\n",
              "      <td>...</td>\n",
              "    </tr>\n",
              "    <tr>\n",
              "      <th>4027</th>\n",
              "      <td>2014-02-28 14:05:00</td>\n",
              "      <td>0.132</td>\n",
              "    </tr>\n",
              "    <tr>\n",
              "      <th>4028</th>\n",
              "      <td>2014-02-28 14:10:00</td>\n",
              "      <td>0.134</td>\n",
              "    </tr>\n",
              "    <tr>\n",
              "      <th>4029</th>\n",
              "      <td>2014-02-28 14:15:00</td>\n",
              "      <td>0.134</td>\n",
              "    </tr>\n",
              "    <tr>\n",
              "      <th>4030</th>\n",
              "      <td>2014-02-28 14:20:00</td>\n",
              "      <td>0.134</td>\n",
              "    </tr>\n",
              "    <tr>\n",
              "      <th>4031</th>\n",
              "      <td>2014-02-28 14:25:00</td>\n",
              "      <td>0.134</td>\n",
              "    </tr>\n",
              "  </tbody>\n",
              "</table>\n",
              "<p>4032 rows × 2 columns</p>\n",
              "</div>\n",
              "    <div class=\"colab-df-buttons\">\n",
              "\n",
              "  <div class=\"colab-df-container\">\n",
              "    <button class=\"colab-df-convert\" onclick=\"convertToInteractive('df-5ffcad7d-e305-43cc-89ba-85f37f38cfc9')\"\n",
              "            title=\"Convert this dataframe to an interactive table.\"\n",
              "            style=\"display:none;\">\n",
              "\n",
              "  <svg xmlns=\"http://www.w3.org/2000/svg\" height=\"24px\" viewBox=\"0 -960 960 960\">\n",
              "    <path d=\"M120-120v-720h720v720H120Zm60-500h600v-160H180v160Zm220 220h160v-160H400v160Zm0 220h160v-160H400v160ZM180-400h160v-160H180v160Zm440 0h160v-160H620v160ZM180-180h160v-160H180v160Zm440 0h160v-160H620v160Z\"/>\n",
              "  </svg>\n",
              "    </button>\n",
              "\n",
              "  <style>\n",
              "    .colab-df-container {\n",
              "      display:flex;\n",
              "      gap: 12px;\n",
              "    }\n",
              "\n",
              "    .colab-df-convert {\n",
              "      background-color: #E8F0FE;\n",
              "      border: none;\n",
              "      border-radius: 50%;\n",
              "      cursor: pointer;\n",
              "      display: none;\n",
              "      fill: #1967D2;\n",
              "      height: 32px;\n",
              "      padding: 0 0 0 0;\n",
              "      width: 32px;\n",
              "    }\n",
              "\n",
              "    .colab-df-convert:hover {\n",
              "      background-color: #E2EBFA;\n",
              "      box-shadow: 0px 1px 2px rgba(60, 64, 67, 0.3), 0px 1px 3px 1px rgba(60, 64, 67, 0.15);\n",
              "      fill: #174EA6;\n",
              "    }\n",
              "\n",
              "    .colab-df-buttons div {\n",
              "      margin-bottom: 4px;\n",
              "    }\n",
              "\n",
              "    [theme=dark] .colab-df-convert {\n",
              "      background-color: #3B4455;\n",
              "      fill: #D2E3FC;\n",
              "    }\n",
              "\n",
              "    [theme=dark] .colab-df-convert:hover {\n",
              "      background-color: #434B5C;\n",
              "      box-shadow: 0px 1px 3px 1px rgba(0, 0, 0, 0.15);\n",
              "      filter: drop-shadow(0px 1px 2px rgba(0, 0, 0, 0.3));\n",
              "      fill: #FFFFFF;\n",
              "    }\n",
              "  </style>\n",
              "\n",
              "    <script>\n",
              "      const buttonEl =\n",
              "        document.querySelector('#df-5ffcad7d-e305-43cc-89ba-85f37f38cfc9 button.colab-df-convert');\n",
              "      buttonEl.style.display =\n",
              "        google.colab.kernel.accessAllowed ? 'block' : 'none';\n",
              "\n",
              "      async function convertToInteractive(key) {\n",
              "        const element = document.querySelector('#df-5ffcad7d-e305-43cc-89ba-85f37f38cfc9');\n",
              "        const dataTable =\n",
              "          await google.colab.kernel.invokeFunction('convertToInteractive',\n",
              "                                                    [key], {});\n",
              "        if (!dataTable) return;\n",
              "\n",
              "        const docLinkHtml = 'Like what you see? Visit the ' +\n",
              "          '<a target=\"_blank\" href=https://colab.research.google.com/notebooks/data_table.ipynb>data table notebook</a>'\n",
              "          + ' to learn more about interactive tables.';\n",
              "        element.innerHTML = '';\n",
              "        dataTable['output_type'] = 'display_data';\n",
              "        await google.colab.output.renderOutput(dataTable, element);\n",
              "        const docLink = document.createElement('div');\n",
              "        docLink.innerHTML = docLinkHtml;\n",
              "        element.appendChild(docLink);\n",
              "      }\n",
              "    </script>\n",
              "  </div>\n",
              "\n",
              "\n",
              "<div id=\"df-b7aa681e-d1fa-4a4f-96f8-688e1507f2ce\">\n",
              "  <button class=\"colab-df-quickchart\" onclick=\"quickchart('df-b7aa681e-d1fa-4a4f-96f8-688e1507f2ce')\"\n",
              "            title=\"Suggest charts\"\n",
              "            style=\"display:none;\">\n",
              "\n",
              "<svg xmlns=\"http://www.w3.org/2000/svg\" height=\"24px\"viewBox=\"0 0 24 24\"\n",
              "     width=\"24px\">\n",
              "    <g>\n",
              "        <path d=\"M19 3H5c-1.1 0-2 .9-2 2v14c0 1.1.9 2 2 2h14c1.1 0 2-.9 2-2V5c0-1.1-.9-2-2-2zM9 17H7v-7h2v7zm4 0h-2V7h2v10zm4 0h-2v-4h2v4z\"/>\n",
              "    </g>\n",
              "</svg>\n",
              "  </button>\n",
              "\n",
              "<style>\n",
              "  .colab-df-quickchart {\n",
              "      --bg-color: #E8F0FE;\n",
              "      --fill-color: #1967D2;\n",
              "      --hover-bg-color: #E2EBFA;\n",
              "      --hover-fill-color: #174EA6;\n",
              "      --disabled-fill-color: #AAA;\n",
              "      --disabled-bg-color: #DDD;\n",
              "  }\n",
              "\n",
              "  [theme=dark] .colab-df-quickchart {\n",
              "      --bg-color: #3B4455;\n",
              "      --fill-color: #D2E3FC;\n",
              "      --hover-bg-color: #434B5C;\n",
              "      --hover-fill-color: #FFFFFF;\n",
              "      --disabled-bg-color: #3B4455;\n",
              "      --disabled-fill-color: #666;\n",
              "  }\n",
              "\n",
              "  .colab-df-quickchart {\n",
              "    background-color: var(--bg-color);\n",
              "    border: none;\n",
              "    border-radius: 50%;\n",
              "    cursor: pointer;\n",
              "    display: none;\n",
              "    fill: var(--fill-color);\n",
              "    height: 32px;\n",
              "    padding: 0;\n",
              "    width: 32px;\n",
              "  }\n",
              "\n",
              "  .colab-df-quickchart:hover {\n",
              "    background-color: var(--hover-bg-color);\n",
              "    box-shadow: 0 1px 2px rgba(60, 64, 67, 0.3), 0 1px 3px 1px rgba(60, 64, 67, 0.15);\n",
              "    fill: var(--button-hover-fill-color);\n",
              "  }\n",
              "\n",
              "  .colab-df-quickchart-complete:disabled,\n",
              "  .colab-df-quickchart-complete:disabled:hover {\n",
              "    background-color: var(--disabled-bg-color);\n",
              "    fill: var(--disabled-fill-color);\n",
              "    box-shadow: none;\n",
              "  }\n",
              "\n",
              "  .colab-df-spinner {\n",
              "    border: 2px solid var(--fill-color);\n",
              "    border-color: transparent;\n",
              "    border-bottom-color: var(--fill-color);\n",
              "    animation:\n",
              "      spin 1s steps(1) infinite;\n",
              "  }\n",
              "\n",
              "  @keyframes spin {\n",
              "    0% {\n",
              "      border-color: transparent;\n",
              "      border-bottom-color: var(--fill-color);\n",
              "      border-left-color: var(--fill-color);\n",
              "    }\n",
              "    20% {\n",
              "      border-color: transparent;\n",
              "      border-left-color: var(--fill-color);\n",
              "      border-top-color: var(--fill-color);\n",
              "    }\n",
              "    30% {\n",
              "      border-color: transparent;\n",
              "      border-left-color: var(--fill-color);\n",
              "      border-top-color: var(--fill-color);\n",
              "      border-right-color: var(--fill-color);\n",
              "    }\n",
              "    40% {\n",
              "      border-color: transparent;\n",
              "      border-right-color: var(--fill-color);\n",
              "      border-top-color: var(--fill-color);\n",
              "    }\n",
              "    60% {\n",
              "      border-color: transparent;\n",
              "      border-right-color: var(--fill-color);\n",
              "    }\n",
              "    80% {\n",
              "      border-color: transparent;\n",
              "      border-right-color: var(--fill-color);\n",
              "      border-bottom-color: var(--fill-color);\n",
              "    }\n",
              "    90% {\n",
              "      border-color: transparent;\n",
              "      border-bottom-color: var(--fill-color);\n",
              "    }\n",
              "  }\n",
              "</style>\n",
              "\n",
              "  <script>\n",
              "    async function quickchart(key) {\n",
              "      const quickchartButtonEl =\n",
              "        document.querySelector('#' + key + ' button');\n",
              "      quickchartButtonEl.disabled = true;  // To prevent multiple clicks.\n",
              "      quickchartButtonEl.classList.add('colab-df-spinner');\n",
              "      try {\n",
              "        const charts = await google.colab.kernel.invokeFunction(\n",
              "            'suggestCharts', [key], {});\n",
              "      } catch (error) {\n",
              "        console.error('Error during call to suggestCharts:', error);\n",
              "      }\n",
              "      quickchartButtonEl.classList.remove('colab-df-spinner');\n",
              "      quickchartButtonEl.classList.add('colab-df-quickchart-complete');\n",
              "    }\n",
              "    (() => {\n",
              "      let quickchartButtonEl =\n",
              "        document.querySelector('#df-b7aa681e-d1fa-4a4f-96f8-688e1507f2ce button');\n",
              "      quickchartButtonEl.style.display =\n",
              "        google.colab.kernel.accessAllowed ? 'block' : 'none';\n",
              "    })();\n",
              "  </script>\n",
              "</div>\n",
              "    </div>\n",
              "  </div>\n"
            ],
            "application/vnd.google.colaboratory.intrinsic+json": {
              "type": "dataframe",
              "variable_name": "DATA1",
              "repr_error": "'str' object has no attribute 'empty'"
            }
          },
          "metadata": {},
          "execution_count": 34
        }
      ],
      "source": [
        "# anomalous\n",
        "URL1= \"https://raw.githubusercontent.com/numenta/NAB/master/data/realAWSCloudwatch/ec2_cpu_utilization_24ae8d.csv\"\n",
        "DATA1 = pd.read_csv(URL1)\n",
        "DATA1\n"
      ]
    },
    {
      "cell_type": "code",
      "execution_count": null,
      "metadata": {
        "colab": {
          "base_uri": "https://localhost:8080/"
        },
        "id": "Io4RQmw8DFCo",
        "outputId": "9b42a28f-d9b3-4a32-8e4b-44ca32404c4f"
      },
      "outputs": [
        {
          "output_type": "stream",
          "name": "stdout",
          "text": [
            "(3225, 2) (807, 2)\n"
          ]
        }
      ],
      "source": [
        "df  = DATA1\n",
        "\n",
        "train_size = int(len(df) * 0.8)\n",
        "test_size = len(df) - train_size\n",
        "train, test = df.iloc[0:train_size], df.iloc[train_size:len(df)]\n",
        "print(train.shape, test.shape)\n",
        "\n",
        "#from sklearn.preprocessing import MinMaxScaler\n",
        "#scaler = MinMaxScaler(feature_range =(-1,1))\n",
        "#scaler = scaler.fit(train[['value']])\n",
        "#train['value'] = scaler.transform(train[['value']])\n",
        "#test['value'] = scaler.transform(test[['value']])\n",
        "#df['value'] = scaler.transform(df[['value']])\n"
      ]
    },
    {
      "cell_type": "code",
      "execution_count": null,
      "metadata": {
        "id": "W5l9jdchDSLl"
      },
      "outputs": [],
      "source": [
        "def create_dataset(X, y, time_steps):\n",
        "    Xs, ys = [], []\n",
        "    for i in range(len(X) - time_steps):\n",
        "        v = X.iloc[i:(i + time_steps)].values\n",
        "        Xs.append(v)\n",
        "        ys.append(y.iloc[i + time_steps])\n",
        "    return np.array(Xs), np.array(ys)"
      ]
    },
    {
      "cell_type": "code",
      "execution_count": null,
      "metadata": {
        "colab": {
          "base_uri": "https://localhost:8080/"
        },
        "id": "oH2i_xbLDyKi",
        "outputId": "20db39f8-3a49-4f63-c15d-8aa4c8081b17"
      },
      "outputs": [
        {
          "output_type": "stream",
          "name": "stdout",
          "text": [
            "torch.Size([3215, 10, 1]) torch.Size([797])\n"
          ]
        }
      ],
      "source": [
        "TIME_STEPS =10\n",
        "BATCH_SIZE =  40\n",
        "# reshape to [samples, time_steps, n_features]\n",
        "X_train, y_train = create_dataset(\n",
        "  train[['value']],\n",
        "  train.value,\n",
        "  TIME_STEPS\n",
        ")\n",
        "X_test, y_test = create_dataset(\n",
        "  test[['value']],\n",
        "  test.value,\n",
        "  TIME_STEPS\n",
        ")\n",
        "\n",
        "\n",
        "##Turn into pytorch tensors\n",
        "X_train = torch.tensor(X_train).float()\n",
        "y_train = torch.tensor(y_train).float()\n",
        "X_test = torch.tensor(X_test).float()\n",
        "y_test = torch.tensor(y_test).float()\n",
        "\n",
        "print(X_train.shape, y_test.shape)"
      ]
    },
    {
      "cell_type": "code",
      "execution_count": null,
      "metadata": {
        "id": "if2z6bQrEJTo"
      },
      "outputs": [],
      "source": [
        "from torch.utils.data import Dataset\n",
        "\n",
        "class TimeSeriesDataset(Dataset):\n",
        "  def __init__(self, X,y):\n",
        "    self.X = X\n",
        "    self.y = y\n",
        "\n",
        "  def __len__(self):\n",
        "    return(len(self.X))\n",
        "\n",
        "  def __getitem__(self , i):\n",
        "    return self.X[i], self.y[i]\n",
        "\n",
        "train_dataset = TimeSeriesDataset(X_train, y_train)\n",
        "test_dataset = TimeSeriesDataset(X_test, y_test)"
      ]
    },
    {
      "cell_type": "code",
      "execution_count": null,
      "metadata": {
        "id": "adOC7Vk8EL9Q"
      },
      "outputs": [],
      "source": [
        "from torch.utils.data import DataLoader\n",
        "train_loader = DataLoader(train_dataset, batch_size=BATCH_SIZE, shuffle=False)\n",
        "test_loader = DataLoader(test_dataset, batch_size=BATCH_SIZE, shuffle=False)"
      ]
    },
    {
      "cell_type": "code",
      "execution_count": null,
      "metadata": {
        "colab": {
          "base_uri": "https://localhost:8080/"
        },
        "id": "1GNUlcVEESZN",
        "outputId": "a460b17e-17ac-4978-da16-85fad5587ad8"
      },
      "outputs": [
        {
          "output_type": "execute_result",
          "data": {
            "text/plain": [
              "RNN(\n",
              "  (rnn): RNN(1, 10, batch_first=True)\n",
              "  (fc): Linear(in_features=10, out_features=1, bias=True)\n",
              ")"
            ]
          },
          "metadata": {},
          "execution_count": 30
        }
      ],
      "source": [
        "class RNN(nn.Module):\n",
        "  def __init__(self,input_size, hidden_size):\n",
        "    super().__init__()\n",
        "    self.hidden_size=hidden_size\n",
        "\n",
        "    self.rnn = nn.RNN(input_size, hidden_size, batch_first=True)\n",
        "\n",
        "    self.fc=nn.Linear(hidden_size, 1)\n",
        "\n",
        "\n",
        "  def forward(self,x):\n",
        "    batch_size = x.size(0)\n",
        "    h0 = torch.ones(1,batch_size, self.hidden_size)\n",
        "    out, _ =self.rnn(x,h0)\n",
        "    out = self.fc(out[:,-1,:])\n",
        "    return out\n",
        "\n",
        "model = RNN(1,TIME_STEPS)\n",
        "model\n"
      ]
    },
    {
      "cell_type": "code",
      "execution_count": null,
      "metadata": {
        "id": "YtMHFhT3EWvu"
      },
      "outputs": [],
      "source": [
        "def train_one_epoch():\n",
        "  model.train(True)\n",
        "  print(f'Epoch: {epoch+1}')\n",
        "  running_loss =0.0\n",
        "  running_loss1=0.0\n",
        "  avg_loss_across_batches = 0\n",
        "  for batch_index, batch in enumerate(train_loader):\n",
        "    x_batch, y_batch = batch[0], batch[1]\n",
        "    output= torch.squeeze(model(x_batch))\n",
        "    loss = loss_fn(output,y_batch) # comparing model output to ground truth\n",
        "    running_loss += loss\n",
        "    running_loss1 += loss\n",
        "    optimizer.zero_grad()\n",
        "    loss.backward()\n",
        "    optimizer.step()\n",
        "\n",
        "    if batch_index %100 == 99:\n",
        "      avg_loss_across_batches = running_loss/100\n",
        "      print('Batch {0}, Loss: {1:.3f}'.format(batch_index+1, avg_loss_across_batches))\n",
        "      running_loss =0.0\n",
        "\n",
        "  return running_loss1.item()/(len(train_loader))"
      ]
    },
    {
      "cell_type": "code",
      "execution_count": null,
      "metadata": {
        "id": "EqiiLdW5EaM2"
      },
      "outputs": [],
      "source": [
        "def validate_one_epoch():\n",
        "  model.train(False)\n",
        "  running_loss = 0.0\n",
        "\n",
        "  for batch_index, batch in enumerate(test_loader):\n",
        "    x_batch, y_batch = batch[0], batch[1]\n",
        "\n",
        "    with torch.no_grad():\n",
        "      output= torch.squeeze(model(x_batch))\n",
        "      loss = loss_fn(output,y_batch)\n",
        "      running_loss += loss\n",
        "  avg_loss_across_batches = running_loss.item() /len(test_loader)\n",
        "\n",
        "  print('Val Loss : {0:.3f}'.format(avg_loss_across_batches))\n",
        "  print('************************************************')\n",
        "  return avg_loss_across_batches"
      ]
    },
    {
      "cell_type": "code",
      "execution_count": null,
      "metadata": {
        "colab": {
          "base_uri": "https://localhost:8080/",
          "height": 1000
        },
        "id": "U9bbGRn_EceU",
        "outputId": "e89fc5fd-f645-43fc-d751-bf5259a360d7"
      },
      "outputs": [
        {
          "output_type": "stream",
          "name": "stdout",
          "text": [
            "Epoch: 1\n",
            "Batch 100, Loss: 0.013\n",
            "Val Loss : 0.015\n",
            "************************************************\n",
            "Epoch: 2\n",
            "Batch 100, Loss: 0.008\n",
            "Val Loss : 0.015\n",
            "************************************************\n",
            "Epoch: 3\n",
            "Batch 100, Loss: 0.008\n",
            "Val Loss : 0.015\n",
            "************************************************\n",
            "Epoch: 4\n",
            "Batch 100, Loss: 0.008\n",
            "Val Loss : 0.015\n",
            "************************************************\n",
            "Epoch: 5\n",
            "Batch 100, Loss: 0.008\n",
            "Val Loss : 0.015\n",
            "************************************************\n",
            "Epoch: 6\n",
            "Batch 100, Loss: 0.008\n",
            "Val Loss : 0.015\n",
            "************************************************\n",
            "Epoch: 7\n",
            "Batch 100, Loss: 0.008\n",
            "Val Loss : 0.015\n",
            "************************************************\n",
            "Epoch: 8\n",
            "Batch 100, Loss: 0.008\n",
            "Val Loss : 0.015\n",
            "************************************************\n",
            "Epoch: 9\n",
            "Batch 100, Loss: 0.008\n",
            "Val Loss : 0.015\n",
            "************************************************\n",
            "Epoch: 10\n",
            "Batch 100, Loss: 0.008\n",
            "Val Loss : 0.015\n",
            "************************************************\n",
            "Epoch: 11\n",
            "Batch 100, Loss: 0.008\n",
            "Val Loss : 0.015\n",
            "************************************************\n",
            "Epoch: 12\n",
            "Batch 100, Loss: 0.008\n",
            "Val Loss : 0.015\n",
            "************************************************\n",
            "Epoch: 13\n",
            "Batch 100, Loss: 0.008\n",
            "Val Loss : 0.015\n",
            "************************************************\n",
            "Epoch: 14\n",
            "Batch 100, Loss: 0.008\n",
            "Val Loss : 0.015\n",
            "************************************************\n",
            "Epoch: 15\n",
            "Batch 100, Loss: 0.008\n"
          ]
        },
        {
          "output_type": "error",
          "ename": "KeyboardInterrupt",
          "evalue": "",
          "traceback": [
            "\u001b[0;31m---------------------------------------------------------------------------\u001b[0m",
            "\u001b[0;31mKeyboardInterrupt\u001b[0m                         Traceback (most recent call last)",
            "\u001b[0;32m<ipython-input-33-9d9cf0565fe0>\u001b[0m in \u001b[0;36m<cell line: 7>\u001b[0;34m()\u001b[0m\n\u001b[1;32m      6\u001b[0m \u001b[0mval_loss\u001b[0m \u001b[0;34m=\u001b[0m \u001b[0;34m[\u001b[0m\u001b[0;34m]\u001b[0m\u001b[0;34m\u001b[0m\u001b[0;34m\u001b[0m\u001b[0m\n\u001b[1;32m      7\u001b[0m \u001b[0;32mfor\u001b[0m \u001b[0mepoch\u001b[0m \u001b[0;32min\u001b[0m \u001b[0mrange\u001b[0m\u001b[0;34m(\u001b[0m\u001b[0mnum_epochs\u001b[0m\u001b[0;34m)\u001b[0m\u001b[0;34m:\u001b[0m\u001b[0;34m\u001b[0m\u001b[0;34m\u001b[0m\u001b[0m\n\u001b[0;32m----> 8\u001b[0;31m   \u001b[0mtrainingloss\u001b[0m\u001b[0;34m.\u001b[0m\u001b[0mappend\u001b[0m\u001b[0;34m(\u001b[0m\u001b[0mtrain_one_epoch\u001b[0m\u001b[0;34m(\u001b[0m\u001b[0;34m)\u001b[0m\u001b[0;34m)\u001b[0m\u001b[0;34m\u001b[0m\u001b[0;34m\u001b[0m\u001b[0m\n\u001b[0m\u001b[1;32m      9\u001b[0m   \u001b[0mval_loss\u001b[0m\u001b[0;34m.\u001b[0m\u001b[0mappend\u001b[0m\u001b[0;34m(\u001b[0m\u001b[0mvalidate_one_epoch\u001b[0m\u001b[0;34m(\u001b[0m\u001b[0;34m)\u001b[0m\u001b[0;34m)\u001b[0m\u001b[0;34m\u001b[0m\u001b[0;34m\u001b[0m\u001b[0m\n",
            "\u001b[0;32m<ipython-input-31-49997750cf68>\u001b[0m in \u001b[0;36mtrain_one_epoch\u001b[0;34m()\u001b[0m\n\u001b[1;32m     12\u001b[0m     \u001b[0mrunning_loss1\u001b[0m \u001b[0;34m+=\u001b[0m \u001b[0mloss\u001b[0m\u001b[0;34m\u001b[0m\u001b[0;34m\u001b[0m\u001b[0m\n\u001b[1;32m     13\u001b[0m     \u001b[0moptimizer\u001b[0m\u001b[0;34m.\u001b[0m\u001b[0mzero_grad\u001b[0m\u001b[0;34m(\u001b[0m\u001b[0;34m)\u001b[0m\u001b[0;34m\u001b[0m\u001b[0;34m\u001b[0m\u001b[0m\n\u001b[0;32m---> 14\u001b[0;31m     \u001b[0mloss\u001b[0m\u001b[0;34m.\u001b[0m\u001b[0mbackward\u001b[0m\u001b[0;34m(\u001b[0m\u001b[0;34m)\u001b[0m\u001b[0;34m\u001b[0m\u001b[0;34m\u001b[0m\u001b[0m\n\u001b[0m\u001b[1;32m     15\u001b[0m     \u001b[0moptimizer\u001b[0m\u001b[0;34m.\u001b[0m\u001b[0mstep\u001b[0m\u001b[0;34m(\u001b[0m\u001b[0;34m)\u001b[0m\u001b[0;34m\u001b[0m\u001b[0;34m\u001b[0m\u001b[0m\n\u001b[1;32m     16\u001b[0m \u001b[0;34m\u001b[0m\u001b[0m\n",
            "\u001b[0;32m/usr/local/lib/python3.10/dist-packages/torch/_tensor.py\u001b[0m in \u001b[0;36mbackward\u001b[0;34m(self, gradient, retain_graph, create_graph, inputs)\u001b[0m\n\u001b[1;32m    490\u001b[0m                 \u001b[0minputs\u001b[0m\u001b[0;34m=\u001b[0m\u001b[0minputs\u001b[0m\u001b[0;34m,\u001b[0m\u001b[0;34m\u001b[0m\u001b[0;34m\u001b[0m\u001b[0m\n\u001b[1;32m    491\u001b[0m             )\n\u001b[0;32m--> 492\u001b[0;31m         torch.autograd.backward(\n\u001b[0m\u001b[1;32m    493\u001b[0m             \u001b[0mself\u001b[0m\u001b[0;34m,\u001b[0m \u001b[0mgradient\u001b[0m\u001b[0;34m,\u001b[0m \u001b[0mretain_graph\u001b[0m\u001b[0;34m,\u001b[0m \u001b[0mcreate_graph\u001b[0m\u001b[0;34m,\u001b[0m \u001b[0minputs\u001b[0m\u001b[0;34m=\u001b[0m\u001b[0minputs\u001b[0m\u001b[0;34m\u001b[0m\u001b[0;34m\u001b[0m\u001b[0m\n\u001b[1;32m    494\u001b[0m         )\n",
            "\u001b[0;32m/usr/local/lib/python3.10/dist-packages/torch/autograd/__init__.py\u001b[0m in \u001b[0;36mbackward\u001b[0;34m(tensors, grad_tensors, retain_graph, create_graph, grad_variables, inputs)\u001b[0m\n\u001b[1;32m    249\u001b[0m     \u001b[0;31m# some Python versions print out the first line of a multi-line function\u001b[0m\u001b[0;34m\u001b[0m\u001b[0;34m\u001b[0m\u001b[0m\n\u001b[1;32m    250\u001b[0m     \u001b[0;31m# calls in the traceback and some print out the last line\u001b[0m\u001b[0;34m\u001b[0m\u001b[0;34m\u001b[0m\u001b[0m\n\u001b[0;32m--> 251\u001b[0;31m     Variable._execution_engine.run_backward(  # Calls into the C++ engine to run the backward pass\n\u001b[0m\u001b[1;32m    252\u001b[0m         \u001b[0mtensors\u001b[0m\u001b[0;34m,\u001b[0m\u001b[0;34m\u001b[0m\u001b[0;34m\u001b[0m\u001b[0m\n\u001b[1;32m    253\u001b[0m         \u001b[0mgrad_tensors_\u001b[0m\u001b[0;34m,\u001b[0m\u001b[0;34m\u001b[0m\u001b[0;34m\u001b[0m\u001b[0m\n",
            "\u001b[0;31mKeyboardInterrupt\u001b[0m: "
          ]
        }
      ],
      "source": [
        "lr = 3e-4\n",
        "num_epochs = 100\n",
        "loss_fn = nn.MSELoss()\n",
        "optimizer = torch.optim.Adam(model.parameters(), lr=lr)\n",
        "trainingloss = []\n",
        "val_loss = []\n",
        "for epoch in range(num_epochs):\n",
        "  trainingloss.append(train_one_epoch())\n",
        "  val_loss.append(validate_one_epoch())\n"
      ]
    },
    {
      "cell_type": "code",
      "execution_count": null,
      "metadata": {
        "id": "dZKQBlt7Iu5w"
      },
      "outputs": [],
      "source": [
        "plt.plot(trainingloss, label = 'Training Loss')\n",
        "plt.plot(val_loss, label ='Validation Loss')\n",
        "plt.legend()\n",
        "plt.show()"
      ]
    },
    {
      "cell_type": "code",
      "execution_count": null,
      "metadata": {
        "id": "CL4SLlR2NLJU"
      },
      "outputs": [],
      "source": [
        "with torch.no_grad():\n",
        "  predicted = model(X_train).numpy()\n",
        "\n",
        "plt.plot(y_train, label = 'Actual')\n",
        "plt.plot(predicted, label ='Predicted')\n",
        "plt.legend()\n",
        "plt.show()"
      ]
    },
    {
      "cell_type": "code",
      "execution_count": null,
      "metadata": {
        "id": "o6G7VkpAN4gG"
      },
      "outputs": [],
      "source": [
        "##Now testing on anomalous datasets\n",
        "\n",
        "Xtest1, ytest1 = create_dataset(\n",
        "  df[['value']],\n",
        "  df.value,\n",
        "  TIME_STEPS\n",
        ")\n",
        "\n",
        "Xtest1 = torch.tensor(Xtest1).float()\n",
        "ytest1 = torch.tensor(ytest1).float()"
      ]
    },
    {
      "cell_type": "code",
      "execution_count": null,
      "metadata": {
        "id": "Q70SMq-4O-0p"
      },
      "outputs": [],
      "source": [
        "with torch.no_grad():\n",
        "  predicted2 = model(Xtest1).numpy()\n",
        "\n",
        "plt.plot(ytest1, label = 'Actual')\n",
        "plt.plot(predicted2, label ='Predicted')\n",
        "plt.legend()\n",
        "plt.show()"
      ]
    },
    {
      "cell_type": "code",
      "execution_count": null,
      "metadata": {
        "id": "_0JXKhbqcOC7"
      },
      "outputs": [],
      "source": [
        "indextracker = []\n",
        "difference = []\n",
        "for x in range(0,len(predicted2)):\n",
        "  diff = abs(ytest1[x] - predicted2[x])\n",
        "  difference.append(diff)\n",
        "standard_deviation = np.std(difference)\n",
        "Mean = np.mean(difference)\n",
        "for x in range (0,len(difference)):\n",
        " if difference[x] >3*standard_deviation+ Mean:\n",
        "    indextracker.append(x)\n",
        "print(\"The anomalous points are at\" , indextracker, \"The total amount of anomalies is\",len(indextracker))"
      ]
    },
    {
      "cell_type": "markdown",
      "metadata": {
        "id": "z5P7cNdBWqDy"
      },
      "source": [
        " \"realAWSCloudwatch/ec2_cpu_utilization_24ae8d.csv\":\n",
        "\n",
        "        \"2014-02-26 22:05:00\",\n",
        "        \n",
        "        \"2014-02-27 17:15:00\""
      ]
    },
    {
      "cell_type": "code",
      "source": [
        "for x in range(0,len(indextracker)):\n",
        "  print(DATA1.iloc[indextracker[x]+TIME_STEPS]['timestamp'])"
      ],
      "metadata": {
        "id": "1dk7uXezG7jB"
      },
      "execution_count": null,
      "outputs": []
    }
  ]
}